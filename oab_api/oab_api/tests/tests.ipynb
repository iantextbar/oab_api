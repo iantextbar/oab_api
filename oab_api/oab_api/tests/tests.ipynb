{
 "cells": [
  {
   "cell_type": "code",
   "execution_count": 3,
   "metadata": {},
   "outputs": [],
   "source": [
    "import sys\n",
    "sys.path.append('../')\n",
    "from oab_api.app import *"
   ]
  },
  {
   "cell_type": "code",
   "execution_count": 4,
   "metadata": {},
   "outputs": [],
   "source": [
    "scraper = OABRequestScraper()"
   ]
  },
  {
   "cell_type": "code",
   "execution_count": 5,
   "metadata": {},
   "outputs": [
    {
     "name": "stdout",
     "output_type": "stream",
     "text": [
      "Imagem ocupa 0.6128311157226562 MB na memória RAM\n",
      "Extraíndo dados de Isis César Corassa\n"
     ]
    }
   ],
   "source": [
    "dados = scraper.fetch_adv(\"Isis César Corassa\", \"499357\")"
   ]
  },
  {
   "cell_type": "code",
   "execution_count": 6,
   "metadata": {},
   "outputs": [
    {
     "data": {
      "text/plain": [
       "{'nome': 'ISIS CESAR CORASSA',\n",
       " 'insc': '499357',\n",
       " 'seccional': 'SE',\n",
       " 'subsecao': 'RIBEIRAO PRETO',\n",
       " 'endereco': 'AVENIDA LUIZ EDUARDO TOLEDO PRADO, Nº 870 SALA 1108, VILA DO GOLF RIBEIRÃO PRETO - SP 14027250 /',\n",
       " 'telefone': '(11) 8542-1143',\n",
       " 'situacao': 'SITUAÇÃO REGULAR'}"
      ]
     },
     "execution_count": 6,
     "metadata": {},
     "output_type": "execute_result"
    }
   ],
   "source": [
    "dados"
   ]
  },
  {
   "cell_type": "code",
   "execution_count": 7,
   "metadata": {},
   "outputs": [],
   "source": [
    "event = {'nome':\"Isis César Corassa\", 'insc':\"499357\"}"
   ]
  },
  {
   "cell_type": "code",
   "execution_count": 8,
   "metadata": {},
   "outputs": [
    {
     "name": "stdout",
     "output_type": "stream",
     "text": [
      "Imagem ocupa 0.6128311157226562 MB na memória RAM\n",
      "Extraíndo dados de Isis César Corassa\n"
     ]
    }
   ],
   "source": [
    "test = fetch_adv(event)"
   ]
  },
  {
   "cell_type": "code",
   "execution_count": 9,
   "metadata": {},
   "outputs": [
    {
     "data": {
      "text/plain": [
       "{'nome': 'ISIS CESAR CORASSA',\n",
       " 'insc': '499357',\n",
       " 'seccional': 'SE',\n",
       " 'subsecao': 'RIBEIRAO PRETO',\n",
       " 'endereco': 'AVENIDA LUIZ EDUARDO TOLEDO PRADO, Nº 870 SALA 1108, VILA DO GOLF RIBEIRÃO PRETO - SP 14027250 /',\n",
       " 'telefone': '(11) 8542-1143',\n",
       " 'situacao': 'SITUAÇÃO REGULAR'}"
      ]
     },
     "execution_count": 9,
     "metadata": {},
     "output_type": "execute_result"
    }
   ],
   "source": [
    "test"
   ]
  },
  {
   "cell_type": "code",
   "execution_count": 1,
   "metadata": {},
   "outputs": [],
   "source": [
    "l = []"
   ]
  },
  {
   "cell_type": "code",
   "execution_count": 2,
   "metadata": {},
   "outputs": [],
   "source": [
    "if l:\n",
    "    print('hi')"
   ]
  },
  {
   "cell_type": "code",
   "execution_count": 3,
   "metadata": {},
   "outputs": [
    {
     "name": "stdout",
     "output_type": "stream",
     "text": [
      "hi\n"
     ]
    }
   ],
   "source": [
    "l.append('a')\n",
    "if l:\n",
    "    print('hi')"
   ]
  },
  {
   "cell_type": "code",
   "execution_count": null,
   "metadata": {},
   "outputs": [],
   "source": []
  }
 ],
 "metadata": {
  "kernelspec": {
   "display_name": "meedi_env",
   "language": "python",
   "name": "python3"
  },
  "language_info": {
   "codemirror_mode": {
    "name": "ipython",
    "version": 3
   },
   "file_extension": ".py",
   "mimetype": "text/x-python",
   "name": "python",
   "nbconvert_exporter": "python",
   "pygments_lexer": "ipython3",
   "version": "3.10.12"
  }
 },
 "nbformat": 4,
 "nbformat_minor": 2
}
